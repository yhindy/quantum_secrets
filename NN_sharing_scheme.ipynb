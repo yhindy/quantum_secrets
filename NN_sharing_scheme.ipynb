{
 "cells": [
  {
   "cell_type": "code",
   "execution_count": 1,
   "metadata": {},
   "outputs": [],
   "source": [
    "from typing import List\n",
    "import numpy as np\n",
    "\n",
    "from pyquil import Program\n",
    "from pyquil.gates import MEASURE, I, CNOT, X, H, CZ, RY\n",
    "from pyquil.quil import address_qubits\n",
    "from pyquil.quilatom import QubitPlaceholder\n",
    "from pyquil.api import QVMConnection\n",
    "from pyquil.noise import pauli_kraus_map, dephasing_kraus_map"
   ]
  },
  {
   "cell_type": "code",
   "execution_count": 2,
   "metadata": {},
   "outputs": [],
   "source": [
    "qvm = QVMConnection()"
   ]
  },
  {
   "cell_type": "code",
   "execution_count": 3,
   "metadata": {},
   "outputs": [],
   "source": [
    "def NN_scheme_encode(qubit: QubitPlaceholder, N: int) -> (Program, List[QubitPlaceholder]):\n",
    "    \n",
    "    ### qubit: qubit you want to encode (main qubit)\n",
    "    ### N: number of qubits you want to encode the main qubit in. \n",
    "    ### For N=1, there is no encoding\n",
    "    \n",
    "    code_register = QubitPlaceholder.register(N)  # the List[QubitPlaceholder] of the qubits you have encoded into\n",
    "    code_register[0] = qubit\n",
    "    \n",
    "    pq = Program()\n",
    "    \n",
    "    ### creation of GHZ state: \n",
    "    for ii in range(N-1):\n",
    "        pq += CNOT(code_register[ii],code_register[ii+1])\n",
    "        \n",
    "        \n",
    "    for jj in range(N-1):\n",
    "        pq += H(code_register[jj])\n",
    "        pq += CZ(code_register[jj+1],code_register[jj])\n",
    "        \n",
    "    \n",
    "    for kk in range(N-1):\n",
    "        pq += CNOT(code_register[kk],code_register[-1])\n",
    "\n",
    "    return pq, code_register\n",
    "\n",
    "\n",
    "def NN_scheme_decode(code_register: List[QubitPlaceholder]) -> (Program, QubitPlaceholder):\n",
    "    \n",
    "    out = QubitPlaceholder()\n",
    "    n = len(code_register)\n",
    "    \n",
    "    pq = Program()\n",
    "    \n",
    "    ### This is where the magic happens\n",
    "    for ii in range(n):\n",
    "        pq += CNOT(code_register[ii],out)\n",
    "        \n",
    "        \n",
    "    return pq, out\n",
    "\n",
    "\n",
    "def NN_scheme_test(qubit, prep_program, N_encode, N_decode):\n",
    "    \n",
    "    ### qubit: qubit we want to encode (main qubit)\n",
    "    ### prep_program: arbitrary program to put the main qubit in the state we want to \n",
    "    ### transmit\n",
    "    ### N_encode: number of qubits to encode the main qubit in\n",
    "    ### N_decode: number of qubits to read out\n",
    "    ### if N_decode < N_encode, we will always get alpha squared = beta squared = 0.5,\n",
    "    ### no matter what we originally encoded the qubit in.\n",
    "    ### Note that this test only gives the absolute squared values of alpha and beta\n",
    "\n",
    "    pq = Program()\n",
    "    pq += prep_program\n",
    "        \n",
    "    prog, code_register = NN_scheme_encode(qubit,N_encode)\n",
    "\n",
    "    pq += prog\n",
    "\n",
    "    progg, out = NN_scheme_decode(code_register[0:N_decode])\n",
    "\n",
    "    pq += progg\n",
    "\n",
    "    ro = pq.declare('ro', 'BIT', 1)\n",
    "    pq += MEASURE(out, ro)\n",
    "\n",
    "    result = np.sum(qvm.run(address_qubits(pq), trials=1000))/1000.0\n",
    "    \n",
    "    alpha_sqrd = 1.0 - result\n",
    "    beta_sqrd = result\n",
    "    \n",
    "    print('alpha squared = {}'.format(alpha_sqrd))\n",
    "    print('beta squared = {}'.format(beta_sqrd))\n",
    "    \n",
    "    return alpha_sqrd, beta_sqrd"
   ]
  },
  {
   "cell_type": "code",
   "execution_count": 6,
   "metadata": {},
   "outputs": [
    {
     "name": "stdout",
     "output_type": "stream",
     "text": [
      "alpha squared = 0.236\n",
      "beta squared = 0.764\n"
     ]
    }
   ],
   "source": [
    "test = QubitPlaceholder()\n",
    "pq = Program()\n",
    "# pq += X(XX)\n",
    "\n",
    "pq += RY(2.0*np.pi/3.0,test)\n",
    "\n",
    "N_encode, N_decode = 4, 4\n",
    "\n",
    "alpha_sqrd, beta_sqrd = NN_scheme_test(test, pq, N_encode, N_decode)"
   ]
  },
  {
   "cell_type": "code",
   "execution_count": null,
   "metadata": {},
   "outputs": [],
   "source": []
  }
 ],
 "metadata": {
  "kernelspec": {
   "display_name": "Python 3",
   "language": "python",
   "name": "python3"
  },
  "language_info": {
   "codemirror_mode": {
    "name": "ipython",
    "version": 3
   },
   "file_extension": ".py",
   "mimetype": "text/x-python",
   "name": "python",
   "nbconvert_exporter": "python",
   "pygments_lexer": "ipython3",
   "version": "3.6.5"
  }
 },
 "nbformat": 4,
 "nbformat_minor": 2
}
