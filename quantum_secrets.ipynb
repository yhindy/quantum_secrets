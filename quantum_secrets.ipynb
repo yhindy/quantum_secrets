{
 "cells": [
  {
   "cell_type": "code",
   "execution_count": 2,
   "metadata": {
    "colab": {},
    "colab_type": "code",
    "id": "x_fQPhzFueKr"
   },
   "outputs": [],
   "source": [
    "import numpy as np\n",
    "\n",
    "from pyquil import Program\n",
    "from pyquil.gates import MEASURE, I, CNOT, X, Z, H, RZ, PHASE, CPHASE, MEASURE, RX\n",
    "from pyquil.quil import address_qubits\n",
    "from pyquil.quilatom import QubitPlaceholder\n",
    "from pyquil.api import QVMConnection\n",
    "from pyquil.api import WavefunctionSimulator\n",
    "from pyquil.quil import DefGate\n",
    "\n",
    "\n",
    "from qss import orig_encode, orig_decode\n",
    "\n",
    "%load_ext autoreload\n",
    "\n",
    "%autoreload 2"
   ]
  },
  {
   "cell_type": "code",
   "execution_count": 3,
   "metadata": {
    "colab": {
     "base_uri": "https://localhost:8080/",
     "height": 701
    },
    "colab_type": "code",
    "id": "5UjmA2ek19fU",
    "outputId": "cf303787-756a-4c52-adfb-6ee6326827ed"
   },
   "outputs": [],
   "source": [
    "sim = WavefunctionSimulator(random_seed=1337)\n",
    "qvm = QVMConnection(random_seed=1337)\n",
    "MEASURE_FINAL = True"
   ]
  },
  {
   "cell_type": "code",
   "execution_count": 4,
   "metadata": {},
   "outputs": [],
   "source": [
    "def prepare_state(qubit):\n",
    "    return Program(X(qubit))"
   ]
  },
  {
   "cell_type": "code",
   "execution_count": 6,
   "metadata": {},
   "outputs": [],
   "source": [
    "q = 2 # this is fixed\n",
    "final_program = Program()\n",
    "final_program += prepare_state(q)\n",
    "pq, code_register = orig_encode(q)\n",
    "final_program += pq\n",
    "pq, qubits = orig_decode(code_register, indices=[0,1,2], measure=MEASURE_FINAL)\n",
    "final_program += pq\n",
    "target_qubit = qubits[0]"
   ]
  },
  {
   "cell_type": "code",
   "execution_count": 7,
   "metadata": {
    "colab": {
     "base_uri": "https://localhost:8080/",
     "height": 289
    },
    "colab_type": "code",
    "id": "IPdwgCB55mwt",
    "outputId": "1515c210-6551-4718-f164-923e502b2573"
   },
   "outputs": [],
   "source": [
    "#print(final_program)"
   ]
  },
  {
   "cell_type": "code",
   "execution_count": 8,
   "metadata": {},
   "outputs": [
    {
     "name": "stdout",
     "output_type": "stream",
     "text": [
      "1000\n"
     ]
    }
   ],
   "source": [
    "results = np.array(qvm.run(final_program, trials=1000))\n",
    "if MEASURE_FINAL:\n",
    "    print(np.sum(results[:,2])) # should be probability state is in 1. for zero state = 0"
   ]
  },
  {
   "cell_type": "code",
   "execution_count": 9,
   "metadata": {
    "colab": {
     "base_uri": "https://localhost:8080/",
     "height": 616
    },
    "colab_type": "code",
    "id": "cqJ6MRhJ5nNk",
    "outputId": "b000a651-daf6-431c-fb77-7c8ff9eacc1e"
   },
   "outputs": [
    {
     "name": "stdout",
     "output_type": "stream",
     "text": [
      "(-0.7071067812+0j)|10001> + (-0.7071067812+0j)|10010>\n"
     ]
    }
   ],
   "source": [
    "wave_func = sim.wavefunction(final_program)\n",
    "\n",
    "print(wave_func)"
   ]
  },
  {
   "cell_type": "code",
   "execution_count": null,
   "metadata": {},
   "outputs": [],
   "source": []
  }
 ],
 "metadata": {
  "colab": {
   "collapsed_sections": [],
   "name": "quantum_secrets.ipynb",
   "provenance": [],
   "version": "0.3.2"
  },
  "kernelspec": {
   "display_name": "Python 3",
   "language": "python",
   "name": "python3"
  },
  "language_info": {
   "codemirror_mode": {
    "name": "ipython",
    "version": 3
   },
   "file_extension": ".py",
   "mimetype": "text/x-python",
   "name": "python",
   "nbconvert_exporter": "python",
   "pygments_lexer": "ipython3",
   "version": "3.6.8"
  }
 },
 "nbformat": 4,
 "nbformat_minor": 1
}
