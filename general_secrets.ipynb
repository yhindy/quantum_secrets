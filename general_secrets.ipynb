{
 "cells": [
  {
   "cell_type": "code",
   "execution_count": 13,
   "metadata": {},
   "outputs": [
    {
     "name": "stdout",
     "output_type": "stream",
     "text": [
      "The autoreload extension is already loaded. To reload it, use:\n",
      "  %reload_ext autoreload\n"
     ]
    }
   ],
   "source": [
    "import numpy as np\n",
    "\n",
    "from pyquil import Program\n",
    "from pyquil.gates import MEASURE, I, CNOT, X, Z, H, RZ, PHASE, CPHASE, MEASURE, RX\n",
    "from pyquil.quil import address_qubits\n",
    "from pyquil.quilatom import QubitPlaceholder\n",
    "from pyquil.api import QVMConnection\n",
    "from pyquil.api import WavefunctionSimulator\n",
    "from pyquil.quil import DefGate\n",
    "from math import sqrt\n",
    "from itertools import count, islice\n",
    "\n",
    "from qss import encode, decode\n",
    "\n",
    "%load_ext autoreload\n",
    "\n",
    "%autoreload 2"
   ]
  },
  {
   "cell_type": "code",
   "execution_count": 20,
   "metadata": {},
   "outputs": [],
   "source": [
    "k = 3\n",
    "m = 5\n",
    "s = 2\n",
    "np.random.seed(1337)"
   ]
  },
  {
   "cell_type": "code",
   "execution_count": 50,
   "metadata": {},
   "outputs": [],
   "source": [
    "def is_prime(n):\n",
    "    return n > 1 and all(n%i for i in islice(count(2), int(sqrt(n)-1)))\n",
    "\n",
    "def choose_prime(m, s):\n",
    "    bigger = np.maximum(m,s)\n",
    "    candidate = np.random.randint(bigger, 2*bigger)\n",
    "    while not is_prime(candidate):\n",
    "        candidate = np.random.randint(bigger, 2*bigger)\n",
    "    return candidate\n",
    "\n",
    "def poly(x, c, q):\n",
    "    result =0\n",
    "    for i, c_i in enumerate(c):\n",
    "        result += c_i*np.power(x,i) % q\n",
    "    return result"
   ]
  },
  {
   "cell_type": "code",
   "execution_count": 51,
   "metadata": {},
   "outputs": [],
   "source": [
    "q = choose_prime(m,s)\n",
    "field = np.arange(-q, q)\n",
    "c = np.random.choice(field, size = k)\n",
    "x = np.random.choice(field, size = m)\n",
    "c[-1] = 0"
   ]
  },
  {
   "cell_type": "code",
   "execution_count": 52,
   "metadata": {},
   "outputs": [
    {
     "data": {
      "text/plain": [
       "6"
      ]
     },
     "execution_count": 52,
     "metadata": {},
     "output_type": "execute_result"
    }
   ],
   "source": [
    "poly(0, c, q)"
   ]
  },
  {
   "cell_type": "code",
   "execution_count": null,
   "metadata": {},
   "outputs": [],
   "source": []
  }
 ],
 "metadata": {
  "kernelspec": {
   "display_name": "Python 3",
   "language": "python",
   "name": "python3"
  },
  "language_info": {
   "codemirror_mode": {
    "name": "ipython",
    "version": 3
   },
   "file_extension": ".py",
   "mimetype": "text/x-python",
   "name": "python",
   "nbconvert_exporter": "python",
   "pygments_lexer": "ipython3",
   "version": "3.6.8"
  }
 },
 "nbformat": 4,
 "nbformat_minor": 2
}
